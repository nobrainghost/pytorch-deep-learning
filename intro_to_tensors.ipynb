{
  "nbformat": 4,
  "nbformat_minor": 0,
  "metadata": {
    "colab": {
      "provenance": [],
      "authorship_tag": "ABX9TyMNlwTQXz68aYNDNmJJs70m",
      "include_colab_link": true
    },
    "kernelspec": {
      "name": "python3",
      "display_name": "Python 3"
    },
    "language_info": {
      "name": "python"
    }
  },
  "cells": [
    {
      "cell_type": "markdown",
      "metadata": {
        "id": "view-in-github",
        "colab_type": "text"
      },
      "source": [
        "<a href=\"https://colab.research.google.com/github/nobrainghost/pytorch-deep-learning/blob/main/intro_to_tensors.ipynb\" target=\"_parent\"><img src=\"https://colab.research.google.com/assets/colab-badge.svg\" alt=\"Open In Colab\"/></a>"
      ]
    },
    {
      "cell_type": "code",
      "execution_count": null,
      "metadata": {
        "id": "fG_kksH2o91e"
      },
      "outputs": [],
      "source": []
    },
    {
      "cell_type": "code",
      "source": [
        "import torch"
      ],
      "metadata": {
        "id": "ERkkaTrypGMi"
      },
      "execution_count": 3,
      "outputs": []
    },
    {
      "cell_type": "code",
      "source": [
        "scalar=torch.tensor(7)\n",
        "scalar"
      ],
      "metadata": {
        "colab": {
          "base_uri": "https://localhost:8080/"
        },
        "id": "cq_1m9GlpITP",
        "outputId": "56f651b5-6023-427c-e008-a8527af93b99"
      },
      "execution_count": null,
      "outputs": [
        {
          "output_type": "execute_result",
          "data": {
            "text/plain": [
              "tensor(7)"
            ]
          },
          "metadata": {},
          "execution_count": 4
        }
      ]
    },
    {
      "cell_type": "code",
      "source": [
        "scalar.ndim"
      ],
      "metadata": {
        "colab": {
          "base_uri": "https://localhost:8080/"
        },
        "id": "WFu0N2G1qFdU",
        "outputId": "e55e3c53-3e9b-4a0f-feea-bae64b813963"
      },
      "execution_count": null,
      "outputs": [
        {
          "output_type": "execute_result",
          "data": {
            "text/plain": [
              "0"
            ]
          },
          "metadata": {},
          "execution_count": 5
        }
      ]
    },
    {
      "cell_type": "code",
      "source": [
        "scalar.item()"
      ],
      "metadata": {
        "colab": {
          "base_uri": "https://localhost:8080/"
        },
        "id": "QaHpJiUIqIbQ",
        "outputId": "c022279e-f355-4320-fc8d-e989aad7b61f"
      },
      "execution_count": null,
      "outputs": [
        {
          "output_type": "execute_result",
          "data": {
            "text/plain": [
              "7"
            ]
          },
          "metadata": {},
          "execution_count": 6
        }
      ]
    },
    {
      "cell_type": "code",
      "source": [
        "vector=torch.tensor([7,7])"
      ],
      "metadata": {
        "id": "t1lY1gJnqONg"
      },
      "execution_count": null,
      "outputs": []
    },
    {
      "cell_type": "code",
      "source": [
        "vector.shape"
      ],
      "metadata": {
        "colab": {
          "base_uri": "https://localhost:8080/"
        },
        "id": "dS1oLrYpqVCL",
        "outputId": "598a54c5-a67d-40c2-fdf6-fbc39b444d79"
      },
      "execution_count": null,
      "outputs": [
        {
          "output_type": "execute_result",
          "data": {
            "text/plain": [
              "torch.Size([2])"
            ]
          },
          "metadata": {},
          "execution_count": 8
        }
      ]
    },
    {
      "cell_type": "code",
      "source": [
        "#matrix\n",
        "MATRIX=torch.tensor([[7,8],[9,10]])"
      ],
      "metadata": {
        "id": "Wg9FG_0kqmmo"
      },
      "execution_count": null,
      "outputs": []
    },
    {
      "cell_type": "code",
      "source": [
        "MATRIX.ndim\n"
      ],
      "metadata": {
        "colab": {
          "base_uri": "https://localhost:8080/"
        },
        "id": "yEwG7mS1qzjL",
        "outputId": "cc722154-5abd-499c-d074-90507dec0529"
      },
      "execution_count": null,
      "outputs": [
        {
          "output_type": "execute_result",
          "data": {
            "text/plain": [
              "2"
            ]
          },
          "metadata": {},
          "execution_count": 10
        }
      ]
    },
    {
      "cell_type": "code",
      "source": [
        "MATRIX.shape"
      ],
      "metadata": {
        "colab": {
          "base_uri": "https://localhost:8080/"
        },
        "id": "wRhGlDuCrGvD",
        "outputId": "b45cd315-bb12-47f6-ee7c-a9a9f373caf3"
      },
      "execution_count": null,
      "outputs": [
        {
          "output_type": "execute_result",
          "data": {
            "text/plain": [
              "torch.Size([2, 2])"
            ]
          },
          "metadata": {},
          "execution_count": 11
        }
      ]
    },
    {
      "cell_type": "code",
      "source": [
        "TENSOR=torch.tensor([[[1,2,3],[3,6,9],[2,4,5]]])"
      ],
      "metadata": {
        "id": "xWb8mJEmrOsb"
      },
      "execution_count": null,
      "outputs": []
    },
    {
      "cell_type": "code",
      "source": [],
      "metadata": {
        "id": "MlxMC6Ic6hx0"
      },
      "execution_count": null,
      "outputs": []
    },
    {
      "cell_type": "code",
      "source": [
        "TENSOR.ndim"
      ],
      "metadata": {
        "colab": {
          "base_uri": "https://localhost:8080/"
        },
        "id": "hFJeU2Pmrf7m",
        "outputId": "83a4850c-a519-4188-ed8e-77ff40ff5e8f"
      },
      "execution_count": null,
      "outputs": [
        {
          "output_type": "execute_result",
          "data": {
            "text/plain": [
              "3"
            ]
          },
          "metadata": {},
          "execution_count": 13
        }
      ]
    },
    {
      "cell_type": "code",
      "source": [
        "random_tensor=torch.rand(size=[3,244,244],dtype=torch.float16)\n",
        "random_tensor"
      ],
      "metadata": {
        "colab": {
          "base_uri": "https://localhost:8080/"
        },
        "id": "X8rQYiRfrpMT",
        "outputId": "565614a4-90a2-42c2-fb73-9216363cbb85"
      },
      "execution_count": 18,
      "outputs": [
        {
          "output_type": "execute_result",
          "data": {
            "text/plain": [
              "tensor([[[0.9424, 0.2817, 0.3257,  ..., 0.7817, 0.8374, 0.8398],\n",
              "         [0.6475, 0.4160, 0.3604,  ..., 0.4624, 0.8706, 0.4839],\n",
              "         [0.8735, 0.1528, 0.4316,  ..., 0.6641, 0.0640, 0.2646],\n",
              "         ...,\n",
              "         [0.4248, 0.9707, 0.3062,  ..., 0.7524, 0.8359, 0.1479],\n",
              "         [0.6211, 0.2461, 0.5234,  ..., 0.9951, 0.2661, 0.9966],\n",
              "         [0.1279, 0.4712, 0.1426,  ..., 0.4780, 0.4399, 0.6758]],\n",
              "\n",
              "        [[0.5854, 0.3457, 0.0073,  ..., 0.8145, 0.5264, 0.5522],\n",
              "         [0.2144, 0.6709, 0.9927,  ..., 0.6406, 0.0542, 0.0034],\n",
              "         [0.3135, 0.7114, 0.7764,  ..., 0.3750, 0.1543, 0.3193],\n",
              "         ...,\n",
              "         [0.0293, 0.6606, 0.4473,  ..., 0.8271, 0.9614, 0.9766],\n",
              "         [0.1089, 0.2915, 0.4072,  ..., 0.3594, 0.4775, 0.6890],\n",
              "         [0.7407, 0.2124, 0.9873,  ..., 0.1250, 0.8330, 0.0303]],\n",
              "\n",
              "        [[0.3975, 0.7085, 0.2661,  ..., 0.7192, 0.8047, 0.3892],\n",
              "         [0.8877, 0.9614, 0.4390,  ..., 0.0098, 0.4878, 0.6367],\n",
              "         [0.2100, 0.8682, 0.6953,  ..., 0.6733, 0.9019, 0.9663],\n",
              "         ...,\n",
              "         [0.4170, 0.5361, 0.2427,  ..., 0.8320, 0.1909, 0.2021],\n",
              "         [0.8657, 0.4619, 0.4282,  ..., 0.6138, 0.4976, 0.3545],\n",
              "         [0.7681, 0.0347, 0.7754,  ..., 0.1045, 0.0781, 0.9346]]],\n",
              "       dtype=torch.float16)"
            ]
          },
          "metadata": {},
          "execution_count": 18
        }
      ]
    },
    {
      "cell_type": "code",
      "source": [
        "rangee=torch.arange(0,1000,100)\n",
        "rangee\n",
        "zeroed=torch.zeros_like(input=rangee)\n",
        "zeroed\n"
      ],
      "metadata": {
        "id": "Y40Nk2hm60m5",
        "colab": {
          "base_uri": "https://localhost:8080/"
        },
        "outputId": "21fc5f7f-f849-429e-b974-94b0fb35aaed"
      },
      "execution_count": 10,
      "outputs": [
        {
          "output_type": "execute_result",
          "data": {
            "text/plain": [
              "tensor([0, 0, 0, 0, 0, 0, 0, 0, 0, 0])"
            ]
          },
          "metadata": {},
          "execution_count": 10
        }
      ]
    },
    {
      "cell_type": "code",
      "source": [
        "some_tensor=torch.rand(3,4,2)\n",
        "some_tensor"
      ],
      "metadata": {
        "colab": {
          "base_uri": "https://localhost:8080/"
        },
        "id": "og1TSyUqON-e",
        "outputId": "75d4c1fb-ba1a-4d06-c073-59cdbe8b4d98"
      },
      "execution_count": 22,
      "outputs": [
        {
          "output_type": "execute_result",
          "data": {
            "text/plain": [
              "tensor([[[0.0080, 0.2537],\n",
              "         [0.1854, 0.0583],\n",
              "         [0.7914, 0.2118],\n",
              "         [0.4353, 0.5745]],\n",
              "\n",
              "        [[0.2596, 0.0495],\n",
              "         [0.7473, 0.9760],\n",
              "         [0.7726, 0.8428],\n",
              "         [0.2851, 0.4987]],\n",
              "\n",
              "        [[0.0525, 0.8044],\n",
              "         [0.0798, 0.0816],\n",
              "         [0.9441, 0.2879],\n",
              "         [0.3527, 0.7568]]])"
            ]
          },
          "metadata": {},
          "execution_count": 22
        }
      ]
    },
    {
      "cell_type": "code",
      "source": [
        "some_tensor.size()"
      ],
      "metadata": {
        "colab": {
          "base_uri": "https://localhost:8080/"
        },
        "id": "uHr41I6hUXwa",
        "outputId": "d405ad73-05f3-4a6e-e2e2-3914a7941d25"
      },
      "execution_count": 23,
      "outputs": [
        {
          "output_type": "execute_result",
          "data": {
            "text/plain": [
              "torch.Size([3, 4, 2])"
            ]
          },
          "metadata": {},
          "execution_count": 23
        }
      ]
    },
    {
      "cell_type": "code",
      "source": [
        "some_tensor.shape"
      ],
      "metadata": {
        "colab": {
          "base_uri": "https://localhost:8080/"
        },
        "id": "NzSK20y4Ud8G",
        "outputId": "94d791cc-b729-4329-dff4-cf1c2402c454"
      },
      "execution_count": 24,
      "outputs": [
        {
          "output_type": "execute_result",
          "data": {
            "text/plain": [
              "torch.Size([3, 4, 2])"
            ]
          },
          "metadata": {},
          "execution_count": 24
        }
      ]
    },
    {
      "cell_type": "code",
      "source": [
        "some_tensor.device"
      ],
      "metadata": {
        "colab": {
          "base_uri": "https://localhost:8080/"
        },
        "id": "msyxZ7XiUo-d",
        "outputId": "d3f9be62-9d1c-4c3f-e5cb-1c12f0d3865c"
      },
      "execution_count": 25,
      "outputs": [
        {
          "output_type": "execute_result",
          "data": {
            "text/plain": [
              "device(type='cpu')"
            ]
          },
          "metadata": {},
          "execution_count": 25
        }
      ]
    },
    {
      "cell_type": "code",
      "source": [],
      "metadata": {
        "id": "2Mo42NiGUtkd"
      },
      "execution_count": null,
      "outputs": []
    }
  ]
}