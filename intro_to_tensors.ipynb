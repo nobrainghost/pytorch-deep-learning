{
  "nbformat": 4,
  "nbformat_minor": 0,
  "metadata": {
    "colab": {
      "provenance": [],
      "authorship_tag": "ABX9TyOH/4MOtDxE9idBaiEU6Oa9"
    },
    "kernelspec": {
      "name": "python3",
      "display_name": "Python 3"
    },
    "language_info": {
      "name": "python"
    }
  },
  "cells": [
    {
      "cell_type": "code",
      "execution_count": null,
      "metadata": {
        "id": "fG_kksH2o91e"
      },
      "outputs": [],
      "source": []
    },
    {
      "cell_type": "code",
      "source": [
        "import torch"
      ],
      "metadata": {
        "id": "ERkkaTrypGMi"
      },
      "execution_count": 3,
      "outputs": []
    },
    {
      "cell_type": "code",
      "source": [
        "scalar=torch.tensor(7)\n",
        "scalar"
      ],
      "metadata": {
        "colab": {
          "base_uri": "https://localhost:8080/"
        },
        "id": "cq_1m9GlpITP",
        "outputId": "56f651b5-6023-427c-e008-a8527af93b99"
      },
      "execution_count": 4,
      "outputs": [
        {
          "output_type": "execute_result",
          "data": {
            "text/plain": [
              "tensor(7)"
            ]
          },
          "metadata": {},
          "execution_count": 4
        }
      ]
    },
    {
      "cell_type": "code",
      "source": [
        "scalar.ndim"
      ],
      "metadata": {
        "colab": {
          "base_uri": "https://localhost:8080/"
        },
        "id": "WFu0N2G1qFdU",
        "outputId": "e55e3c53-3e9b-4a0f-feea-bae64b813963"
      },
      "execution_count": 5,
      "outputs": [
        {
          "output_type": "execute_result",
          "data": {
            "text/plain": [
              "0"
            ]
          },
          "metadata": {},
          "execution_count": 5
        }
      ]
    },
    {
      "cell_type": "code",
      "source": [
        "scalar.item()"
      ],
      "metadata": {
        "colab": {
          "base_uri": "https://localhost:8080/"
        },
        "id": "QaHpJiUIqIbQ",
        "outputId": "c022279e-f355-4320-fc8d-e989aad7b61f"
      },
      "execution_count": 6,
      "outputs": [
        {
          "output_type": "execute_result",
          "data": {
            "text/plain": [
              "7"
            ]
          },
          "metadata": {},
          "execution_count": 6
        }
      ]
    },
    {
      "cell_type": "code",
      "source": [
        "vector=torch.tensor([7,7])"
      ],
      "metadata": {
        "id": "t1lY1gJnqONg"
      },
      "execution_count": 7,
      "outputs": []
    },
    {
      "cell_type": "code",
      "source": [
        "vector.shape"
      ],
      "metadata": {
        "colab": {
          "base_uri": "https://localhost:8080/"
        },
        "id": "dS1oLrYpqVCL",
        "outputId": "598a54c5-a67d-40c2-fdf6-fbc39b444d79"
      },
      "execution_count": 8,
      "outputs": [
        {
          "output_type": "execute_result",
          "data": {
            "text/plain": [
              "torch.Size([2])"
            ]
          },
          "metadata": {},
          "execution_count": 8
        }
      ]
    },
    {
      "cell_type": "code",
      "source": [
        "#matrix\n",
        "MATRIX=torch.tensor([[7,8],[9,10]])"
      ],
      "metadata": {
        "id": "Wg9FG_0kqmmo"
      },
      "execution_count": 9,
      "outputs": []
    },
    {
      "cell_type": "code",
      "source": [
        "MATRIX.ndim\n"
      ],
      "metadata": {
        "colab": {
          "base_uri": "https://localhost:8080/"
        },
        "id": "yEwG7mS1qzjL",
        "outputId": "cc722154-5abd-499c-d074-90507dec0529"
      },
      "execution_count": 10,
      "outputs": [
        {
          "output_type": "execute_result",
          "data": {
            "text/plain": [
              "2"
            ]
          },
          "metadata": {},
          "execution_count": 10
        }
      ]
    },
    {
      "cell_type": "code",
      "source": [
        "MATRIX.shape"
      ],
      "metadata": {
        "colab": {
          "base_uri": "https://localhost:8080/"
        },
        "id": "wRhGlDuCrGvD",
        "outputId": "b45cd315-bb12-47f6-ee7c-a9a9f373caf3"
      },
      "execution_count": 11,
      "outputs": [
        {
          "output_type": "execute_result",
          "data": {
            "text/plain": [
              "torch.Size([2, 2])"
            ]
          },
          "metadata": {},
          "execution_count": 11
        }
      ]
    },
    {
      "cell_type": "code",
      "source": [
        "TENSOR=torch.tensor([[[1,2,3],[3,6,9],[2,4,5]]])"
      ],
      "metadata": {
        "id": "xWb8mJEmrOsb"
      },
      "execution_count": 12,
      "outputs": []
    },
    {
      "cell_type": "code",
      "source": [],
      "metadata": {
        "id": "MlxMC6Ic6hx0"
      },
      "execution_count": 12,
      "outputs": []
    },
    {
      "cell_type": "code",
      "source": [
        "TENSOR.ndim"
      ],
      "metadata": {
        "colab": {
          "base_uri": "https://localhost:8080/"
        },
        "id": "hFJeU2Pmrf7m",
        "outputId": "83a4850c-a519-4188-ed8e-77ff40ff5e8f"
      },
      "execution_count": 13,
      "outputs": [
        {
          "output_type": "execute_result",
          "data": {
            "text/plain": [
              "3"
            ]
          },
          "metadata": {},
          "execution_count": 13
        }
      ]
    },
    {
      "cell_type": "code",
      "source": [
        "random_tensor=torch.rand(size=[3,244,244])\n",
        "random_tensor"
      ],
      "metadata": {
        "colab": {
          "base_uri": "https://localhost:8080/"
        },
        "id": "X8rQYiRfrpMT",
        "outputId": "bd8a4321-b2bb-4044-b713-042f722bb387"
      },
      "execution_count": 15,
      "outputs": [
        {
          "output_type": "execute_result",
          "data": {
            "text/plain": [
              "tensor([[[9.2129e-01, 9.1576e-01, 7.1151e-03,  ..., 4.5696e-01,\n",
              "          4.6884e-01, 9.6565e-01],\n",
              "         [9.5569e-01, 7.4596e-01, 8.9830e-01,  ..., 8.0940e-01,\n",
              "          2.4771e-01, 8.3383e-03],\n",
              "         [4.2797e-01, 6.9410e-01, 5.5060e-02,  ..., 4.7310e-01,\n",
              "          1.9755e-01, 9.4701e-01],\n",
              "         ...,\n",
              "         [6.1783e-01, 9.6438e-01, 4.6070e-01,  ..., 3.5995e-01,\n",
              "          2.2253e-01, 6.8691e-01],\n",
              "         [9.7821e-01, 5.7099e-01, 3.4217e-01,  ..., 9.1199e-01,\n",
              "          1.1239e-01, 8.2593e-01],\n",
              "         [8.6773e-01, 2.8063e-01, 6.8997e-01,  ..., 6.3559e-01,\n",
              "          9.0595e-02, 6.6779e-01]],\n",
              "\n",
              "        [[6.0689e-01, 9.0410e-01, 9.7041e-01,  ..., 1.9306e-01,\n",
              "          1.3386e-01, 9.8515e-01],\n",
              "         [6.3429e-01, 3.8922e-01, 1.1666e-01,  ..., 7.1008e-01,\n",
              "          4.2569e-01, 7.5932e-01],\n",
              "         [4.0897e-01, 9.6873e-02, 4.6342e-01,  ..., 5.8733e-01,\n",
              "          8.5048e-01, 2.3241e-01],\n",
              "         ...,\n",
              "         [3.1037e-01, 2.9030e-01, 6.4687e-01,  ..., 7.6051e-01,\n",
              "          8.7777e-01, 9.1555e-01],\n",
              "         [5.2020e-01, 7.0912e-04, 4.6944e-01,  ..., 8.8728e-01,\n",
              "          4.8293e-01, 7.7005e-01],\n",
              "         [1.3830e-01, 5.4411e-01, 5.3927e-01,  ..., 4.0871e-01,\n",
              "          9.4253e-01, 5.8738e-01]],\n",
              "\n",
              "        [[2.5395e-01, 5.0075e-01, 5.7571e-01,  ..., 8.4611e-02,\n",
              "          6.5856e-01, 7.0307e-01],\n",
              "         [7.4586e-01, 2.6765e-01, 3.1720e-01,  ..., 6.5656e-01,\n",
              "          6.4525e-02, 2.0435e-01],\n",
              "         [3.4198e-01, 6.5255e-01, 5.3006e-01,  ..., 3.2924e-01,\n",
              "          3.4547e-02, 6.3512e-01],\n",
              "         ...,\n",
              "         [7.2452e-01, 9.8243e-01, 3.3964e-01,  ..., 2.5990e-01,\n",
              "          3.2249e-01, 7.2723e-01],\n",
              "         [7.8299e-01, 5.1208e-02, 1.8805e-01,  ..., 2.9441e-01,\n",
              "          2.6291e-01, 7.2740e-01],\n",
              "         [7.5141e-01, 4.5588e-01, 5.8510e-01,  ..., 8.5919e-01,\n",
              "          5.2111e-01, 3.6126e-01]]])"
            ]
          },
          "metadata": {},
          "execution_count": 15
        }
      ]
    },
    {
      "cell_type": "code",
      "source": [],
      "metadata": {
        "id": "Y40Nk2hm60m5"
      },
      "execution_count": null,
      "outputs": []
    }
  ]
}